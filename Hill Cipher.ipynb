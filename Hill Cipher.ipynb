{
 "cells": [
  {
   "cell_type": "code",
   "execution_count": 4,
   "metadata": {},
   "outputs": [
    {
     "name": "stdout",
     "output_type": "stream",
     "text": [
      "Enter 3 no. of string:poh\n",
      "Enter the Key:gybnqkurp\n",
      "1.Encryption\n",
      "2.Decryption\n",
      "Enter the choice:2\n",
      "Plaintext:  ACT\n"
     ]
    }
   ],
   "source": [
    "import numpy as np\n",
    "import math\n",
    "np.keyMatrix = [[0] * 3 for i in range(3)]\n",
    "messageVector = [[0] for i in range(3)]\n",
    "cipherMatrix = [[0] for i in range(3)]\n",
    "plainMatrix = [[0] for i in range(3)]\n",
    "np.inverseKeyMatrix = [[0] * 3 for i in range(3)]\n",
    "\n",
    "def getKeyMatrix(key):\n",
    "  k = 0\n",
    "  for i in range(3):\n",
    "    for j in range(3):\n",
    "      np.keyMatrix[i][j] = ord(key[k]) % 65\n",
    "      k += 1\n",
    "\n",
    "def encrypt(messageVector):\n",
    "  for i in range(3):\n",
    "    for j in range(1):\n",
    "      cipherMatrix[i][j] = 0\n",
    "      for x in range(3):\n",
    "        cipherMatrix[i][j] += (np.keyMatrix[i][x] * messageVector[x][j])\n",
    "        cipherMatrix[i][j] = cipherMatrix[i][j] % 26\n",
    "\n",
    "def HillCipher1(message, key):\n",
    "  getKeyMatrix(key)\n",
    "  for i in range(3):\n",
    "    messageVector[i][0] = ord(message[i]) % 65\n",
    "  encrypt(messageVector)\n",
    "  CipherText = []\n",
    "  for i in range(3):\n",
    "    CipherText.append(chr(cipherMatrix[i][0] + 65))\n",
    "  print(\"Ciphertext: \", \"\".join(CipherText))\n",
    "\n",
    "def getInverseKeyMatrix(key):\n",
    "  getKeyMatrix(key)\n",
    "  keyMatrix=np.keyMatrix\n",
    "  from sympy import Matrix\n",
    "  inverseKeyMatrix = Matrix(keyMatrix).inv_mod(26)\n",
    "  np.inverseKeyMatrix = np.array(inverseKeyMatrix)\n",
    "\n",
    "def HillCipher2(message, key):\n",
    "  getInverseKeyMatrix(key)\n",
    "  for i in range(3):\n",
    "    messageVector[i][0] = ord(message[i]) % 65\n",
    "  decrypt(messageVector)\n",
    "  PlainText = []\n",
    "  for i in range(3):\n",
    "    PlainText.append(chr(int(round(plainMatrix[i][0]) + 65)))\n",
    "  print(\"Plaintext: \", \"\".join(PlainText))\n",
    "\n",
    "def decrypt(messageVector):\n",
    "  for i in range(3):\n",
    "    for j in range(1):\n",
    "      plainMatrix[i][j] = 0\n",
    "      for x in range(3):\n",
    "        plainMatrix[i][j] = plainMatrix[i][j] % 26\n",
    "        plainMatrix[i][j] += (np.inverseKeyMatrix[i][x] * messageVector[x][j])\n",
    "      plainMatrix[i][j] = plainMatrix[i][j] % 26\n",
    "\n",
    "\n",
    "message = input(\"Enter 3 no. of string:\")\n",
    "message = message.upper()\n",
    "key = input(\"Enter the Key:\")\n",
    "key = key.upper()\n",
    "ch=int(input(\"1.Encryption\\n2.Decryption\\nEnter the choice:\"))\n",
    "if ch == 1:\n",
    "    HillCipher1(message, key)\n",
    "elif ch == 2:\n",
    "    HillCipher2(message,key)\n",
    "else:\n",
    "    print(\"Wrong input\")\n",
    "\n"
   ]
  },
  {
   "cell_type": "code",
   "execution_count": null,
   "metadata": {},
   "outputs": [],
   "source": []
  },
  {
   "cell_type": "code",
   "execution_count": null,
   "metadata": {},
   "outputs": [],
   "source": []
  },
  {
   "cell_type": "code",
   "execution_count": null,
   "metadata": {},
   "outputs": [],
   "source": []
  },
  {
   "cell_type": "code",
   "execution_count": null,
   "metadata": {},
   "outputs": [],
   "source": []
  }
 ],
 "metadata": {
  "kernelspec": {
   "display_name": "Python 3",
   "language": "python",
   "name": "python3"
  },
  "language_info": {
   "codemirror_mode": {
    "name": "ipython",
    "version": 3
   },
   "file_extension": ".py",
   "mimetype": "text/x-python",
   "name": "python",
   "nbconvert_exporter": "python",
   "pygments_lexer": "ipython3",
   "version": "3.8.3"
  }
 },
 "nbformat": 4,
 "nbformat_minor": 4
}
