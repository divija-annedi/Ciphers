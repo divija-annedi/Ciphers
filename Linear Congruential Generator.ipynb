{
 "cells": [
  {
   "cell_type": "code",
   "execution_count": 1,
   "metadata": {},
   "outputs": [
    {
     "name": "stdout",
     "output_type": "stream",
     "text": [
      "Enter the value of a:7\n",
      "Enter the value of c:0\n",
      "Enter the value of m:32\n",
      "The sequence of psuedorandom numbers using LCG are:\n",
      "7\n",
      "17\n",
      "23\n",
      "1\n",
      "7\n",
      "17\n",
      "23\n",
      "1\n",
      "7\n",
      "17\n"
     ]
    }
   ],
   "source": [
    "def seedLCG(initVal):\n",
    "    global rand\n",
    "    rand = initVal\n",
    "\n",
    "a=int(input(\"Enter the value of a:\"))\n",
    "c=int(input(\"Enter the value of c:\"))\n",
    "m=int(input(\"Enter the value of m:\"))\n",
    "def lcg():\n",
    "    \n",
    "    global rand\n",
    "    rand = (a*rand + c) % m\n",
    "    return rand\n",
    "\n",
    "seedLCG(1)\n",
    "\n",
    "print(\"The sequence of psuedorandom numbers using LCG are:\")\n",
    "for i in range(10):\n",
    "    print(lcg())"
   ]
  },
  {
   "cell_type": "code",
   "execution_count": null,
   "metadata": {},
   "outputs": [],
   "source": []
  },
  {
   "cell_type": "code",
   "execution_count": 20,
   "metadata": {},
   "outputs": [],
   "source": []
  },
  {
   "cell_type": "code",
   "execution_count": null,
   "metadata": {},
   "outputs": [],
   "source": []
  },
  {
   "cell_type": "code",
   "execution_count": null,
   "metadata": {},
   "outputs": [],
   "source": []
  }
 ],
 "metadata": {
  "kernelspec": {
   "display_name": "Python 3",
   "language": "python",
   "name": "python3"
  },
  "language_info": {
   "codemirror_mode": {
    "name": "ipython",
    "version": 3
   },
   "file_extension": ".py",
   "mimetype": "text/x-python",
   "name": "python",
   "nbconvert_exporter": "python",
   "pygments_lexer": "ipython3",
   "version": "3.8.3"
  }
 },
 "nbformat": 4,
 "nbformat_minor": 4
}
