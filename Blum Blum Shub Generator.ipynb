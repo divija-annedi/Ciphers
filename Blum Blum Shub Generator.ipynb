{
 "cells": [
  {
   "cell_type": "code",
   "execution_count": 1,
   "metadata": {},
   "outputs": [
    {
     "name": "stdout",
     "output_type": "stream",
     "text": [
      "Enter value of p:11\n",
      "Enter value of q:3\n",
      "it is a prime number\n",
      "it is a prime number\n",
      "Enter value of s:34\n",
      "The pseudo random number sequence using BBS:\n",
      "1\n",
      "1\n",
      "1\n",
      "1\n",
      "1\n",
      "1\n",
      "1\n",
      "1\n",
      "1\n",
      "1\n"
     ]
    }
   ],
   "source": [
    "p=int(input(\"Enter value of p:\"))\n",
    "q=int(input(\"Enter value of q:\"))\n",
    "ct=0\n",
    "n=p*q\n",
    "\n",
    "x=p%4\n",
    "y=q%4\n",
    "def prime(num):\n",
    "    if num>1:\n",
    "        for i in range(2,num):\n",
    "            if(num%i)==0:\n",
    "                ct=ct+1\n",
    "                \n",
    "                break\n",
    "            else:\n",
    "                ct=0\n",
    "    else:\n",
    "        print(num,\" is not a prime number\")\n",
    "    if ct==0:\n",
    "        print(\"it is a prime number\")\n",
    "    else:\n",
    "        print(\"it is not a prime number\")\n",
    "    \n",
    "prime(p)\n",
    "prime(q)\n",
    "s=int(input(\"Enter value of s:\"))\n",
    "        \n",
    "            \n",
    "print(\"The pseudo random number sequence using BBS:\")\n",
    "if x==3 and y==3:\n",
    "    for i in range(10):\n",
    "        x=(s*s)%n\n",
    "        s=x\n",
    "        print(x)\n",
    "\n"
   ]
  },
  {
   "cell_type": "code",
   "execution_count": null,
   "metadata": {},
   "outputs": [],
   "source": []
  }
 ],
 "metadata": {
  "kernelspec": {
   "display_name": "Python 3",
   "language": "python",
   "name": "python3"
  },
  "language_info": {
   "codemirror_mode": {
    "name": "ipython",
    "version": 3
   },
   "file_extension": ".py",
   "mimetype": "text/x-python",
   "name": "python",
   "nbconvert_exporter": "python",
   "pygments_lexer": "ipython3",
   "version": "3.8.3"
  }
 },
 "nbformat": 4,
 "nbformat_minor": 4
}
