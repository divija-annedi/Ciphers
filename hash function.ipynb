{
 "cells": [
  {
   "cell_type": "code",
   "execution_count": 11,
   "metadata": {},
   "outputs": [
    {
     "name": "stdout",
     "output_type": "stream",
     "text": [
      "Enter a message:9\n",
      "Converting it into binary bits:\n",
      "0b1001\n",
      "Dividing it into equal parts:\n",
      "10\n",
      "01\n",
      "Hash value: 11\n"
     ]
    }
   ],
   "source": [
    "M=int(input(\"Enter a message:\"))\n",
    "bin_M=bin(M)\n",
    "print(\"Converting it into binary bits:\")\n",
    "print(bin_M)\n",
    "print(\"Dividing it into equal parts:\")\n",
    "b1=(bin_M[2:4])\n",
    "print(b1)\n",
    "b2=(bin_M[4:])\n",
    "print(b2)\n",
    "m=2\n",
    "h=int(b1) ^ int(b2)\n",
    "print(\"Hash value:\",h)"
   ]
  },
  {
   "cell_type": "code",
   "execution_count": null,
   "metadata": {},
   "outputs": [],
   "source": []
  },
  {
   "cell_type": "code",
   "execution_count": null,
   "metadata": {},
   "outputs": [],
   "source": []
  }
 ],
 "metadata": {
  "kernelspec": {
   "display_name": "Python 3",
   "language": "python",
   "name": "python3"
  },
  "language_info": {
   "codemirror_mode": {
    "name": "ipython",
    "version": 3
   },
   "file_extension": ".py",
   "mimetype": "text/x-python",
   "name": "python",
   "nbconvert_exporter": "python",
   "pygments_lexer": "ipython3",
   "version": "3.8.3"
  }
 },
 "nbformat": 4,
 "nbformat_minor": 4
}
