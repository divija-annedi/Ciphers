{
 "cells": [
  {
   "cell_type": "code",
   "execution_count": 12,
   "metadata": {},
   "outputs": [
    {
     "name": "stdout",
     "output_type": "stream",
     "text": [
      "Enter a shared prime:7\n",
      "7  is a prime number\n",
      "The shared primitive root is: 3\n",
      "Enter A's secret key:100\n",
      "Enter B's secret key:110\n",
      "A's public key: 4\n",
      "B's public key: 2\n",
      "A's Shared session key:  2\n",
      "B's Shared session key:  2\n"
     ]
    }
   ],
   "source": [
    "sharedPrime = int(input(\"Enter a shared prime:\")) \n",
    "def prime(num):\n",
    "    flag=0\n",
    "    if num>1:\n",
    "        for i in range(2,num//2):\n",
    "            if(num%i)==0:\n",
    "                flag=0\n",
    "            else:\n",
    "                flag=1         \n",
    "    else:\n",
    "        flag=0\n",
    "       \n",
    "    if flag==1:\n",
    "        print(num,\" is a prime number\")\n",
    "    else:\n",
    "        print(num,\" is a prime number\")\n",
    "        \n",
    "prime(sharedPrime)\n",
    "def gcd(a,b):\n",
    "    while b != 0:\n",
    "        a, b = b, a % b\n",
    "    return a\n",
    "\n",
    "def primRoots(modulo):\n",
    "    roots = []\n",
    "    required_set = set(num for num in range (1, modulo) if gcd(num, modulo) == 1)\n",
    "\n",
    "    for g in range(1, modulo):\n",
    "        actual_set = set(pow(g, powers) % modulo for powers in range (1, modulo))\n",
    "        if required_set == actual_set:\n",
    "            roots.append(g)           \n",
    "    return roots\n",
    "\n",
    "\n",
    "p = sharedPrime\n",
    "primitive_roots = primRoots(p)\n",
    "sharedBase=primitive_roots[0]\n",
    "print(\"The shared primitive root is:\",sharedBase)\n",
    "\n",
    "A_secret = int(input(\"Enter A's secret key:\"))   \n",
    "B_secret = int(input(\"Enter B's secret key:\")) \n",
    "\n",
    "\n",
    "A = (sharedBase**A_secret) % sharedPrime\n",
    "print( \"A's public key:\" , A )\n",
    "B = (sharedBase **B_secret) % sharedPrime\n",
    "print(\"B's public key:\", B )\n",
    "\n",
    "\n",
    "A_sharedsecret = (B ** A_secret) % sharedPrime\n",
    "print( \"A's Shared session key: \", A_sharedsecret )\n",
    " \n",
    "\n",
    "B_sharedsecret = (A**B_secret) % sharedPrime\n",
    "print( \"B's Shared session key: \", B_sharedsecret )\n"
   ]
  },
  {
   "cell_type": "code",
   "execution_count": null,
   "metadata": {},
   "outputs": [],
   "source": []
  }
 ],
 "metadata": {
  "kernelspec": {
   "display_name": "Python 3",
   "language": "python",
   "name": "python3"
  },
  "language_info": {
   "codemirror_mode": {
    "name": "ipython",
    "version": 3
   },
   "file_extension": ".py",
   "mimetype": "text/x-python",
   "name": "python",
   "nbconvert_exporter": "python",
   "pygments_lexer": "ipython3",
   "version": "3.8.3"
  }
 },
 "nbformat": 4,
 "nbformat_minor": 4
}
