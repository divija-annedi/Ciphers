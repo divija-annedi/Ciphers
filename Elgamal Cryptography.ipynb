{
 "cells": [
  {
   "cell_type": "code",
   "execution_count": 15,
   "metadata": {},
   "outputs": [
    {
     "name": "stdout",
     "output_type": "stream",
     "text": [
      "Enter the value of q:19\n",
      "19  is a prime number\n",
      "Enter a primitve root:10\n",
      "Enter Alice's key: Xa=5\n",
      "Ya= 3\n",
      "..Encryption..\n",
      "Enter a message:17\n",
      "Enter the value of k:6\n",
      "K after computing: 7\n",
      "Ciphertext {C1,C2} is: 11 , 5\n",
      "..Decryption..\n",
      "Recovered K is: 7\n",
      "K inverse is: 11\n",
      "M after decryption: 17\n"
     ]
    }
   ],
   "source": [
    "q=int(input(\"Enter the value of q:\"))\n",
    "def prime(num):\n",
    "    flag=0\n",
    "    if num>1:\n",
    "        for i in range(2,num//2):\n",
    "            if(num%i)==0:\n",
    "                flag=0\n",
    "            else:\n",
    "                flag=1         \n",
    "    else:\n",
    "        flag=0\n",
    "        print(num,\" is not a prime number\")\n",
    "    if flag==1:\n",
    "        print(num,\" is a prime number\")\n",
    "    else:\n",
    "        print(num,\" is a prime number\")\n",
    "prime(q)\n",
    "alpha=int(input(\"Enter a primitve root:\"))\n",
    "Xa=int(input(\"Enter Alice's key: Xa=\"))\n",
    "Ya=(alpha**Xa)%q\n",
    "print(\"Ya=\",Ya)\n",
    "print(\"..Encryption..\")\n",
    "M=int(input(\"Enter a message:\"))\n",
    "k=int(input(\"Enter the value of k:\"))\n",
    "K=(Ya**k)%q\n",
    "print(\"K after computing:\",K)\n",
    "C1=(alpha**k)%q\n",
    "C2=(K*M)%q\n",
    "print(\"Ciphertext {C1,C2} is:\",C1,',',C2)\n",
    "print(\"..Decryption..\")\n",
    "K=(C1**Xa)%q\n",
    "print(\"Recovered K is:\",K)\n",
    "def modInverse(a, m) : \n",
    "    a = a % m; \n",
    "    for x in range(1, m) : \n",
    "        if ((a * x) % m == 1) : \n",
    "            return x \n",
    "    return 1\n",
    "K_inv=modInverse(K,q)\n",
    "print(\"K inverse is:\",K_inv)\n",
    "M=(C2*K_inv)%q\n",
    "print(\"M after decryption:\",M)\n"
   ]
  },
  {
   "cell_type": "code",
   "execution_count": null,
   "metadata": {},
   "outputs": [],
   "source": []
  }
 ],
 "metadata": {
  "kernelspec": {
   "display_name": "Python 3",
   "language": "python",
   "name": "python3"
  },
  "language_info": {
   "codemirror_mode": {
    "name": "ipython",
    "version": 3
   },
   "file_extension": ".py",
   "mimetype": "text/x-python",
   "name": "python",
   "nbconvert_exporter": "python",
   "pygments_lexer": "ipython3",
   "version": "3.8.3"
  }
 },
 "nbformat": 4,
 "nbformat_minor": 4
}
